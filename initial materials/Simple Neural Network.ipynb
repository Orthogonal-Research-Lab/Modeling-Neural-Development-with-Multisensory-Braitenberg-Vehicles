{
 "cells": [
  {
   "cell_type": "markdown",
   "metadata": {},
   "source": [
    "# Simple Neural Network\n",
    "A simple testing design of neural network.\n",
    "<p>Version: 0.1\n",
    "<p>Python version: 3.6"
   ]
  },
  {
   "cell_type": "code",
   "execution_count": 1,
   "metadata": {},
   "outputs": [],
   "source": [
    "import numpy as np"
   ]
  },
  {
   "cell_type": "code",
   "execution_count": 2,
   "metadata": {},
   "outputs": [],
   "source": [
    "class neural_network:\n",
    "    def __init__(self, connections=None, ORN_size=6, GRN_size=3, pos=(0, 0), stimuli=None, threshold=1):\n",
    "        \"\"\"Constructing a single neural network\n",
    "        \n",
    "        Parameters\n",
    "        ----------\n",
    "        connection : numpy.ndarray\n",
    "            A connection matrix for all neurons. The top left of the matrix \n",
    "            must be receptors (ORNs followed by GRNs).\n",
    "        ORN_size : int\n",
    "            The size of olfactory receptor neurons.\n",
    "        GRN_size : int\n",
    "            The size of gustatory receptor neurons.\n",
    "        pos : tuple, list, or numpy.ndarray\n",
    "            The position of the agent in the 2-dimensional space\n",
    "        stimuli : numpy.ndarray\n",
    "            A collection of stimuli. It should be a 2-dimensional array, with each row\n",
    "            representing a stimulus source. The first columns must be odor attributes,\n",
    "            followed by taste attributes, and then x and y values. The number of stimulus \n",
    "            attributes must match receptor sizes.\n",
    "        \"\"\"\n",
    "        #================== Argument Check ============================\n",
    "        if connections is not None and not isinstance(connections, np.ndarray):\n",
    "            raise ValueError('The connection matrix must be a numpy array.')\n",
    "        if stimuli is not None and not isinstance(stimuli, np.ndarray):\n",
    "            raise ValueError('The stimulus matrix must be a numpy array.')\n",
    "        if not all(isinstance(i, int) for i in (ORN_size, GRN_size)):\n",
    "            raise ValueError('ORN size and GRN size must be integers.')\n",
    "        if not isinstance(pos, (tuple, list, np.ndarray)):\n",
    "            raise ValueError('pos must be a tuple, list, or nparray.')\n",
    "        if connections is not None: # if the matrix is not None\n",
    "            if connections.shape[0] < ORN_size + GRN_size: \n",
    "                raise ValueError('Connection matrix must be at least {} by {}'. \\\n",
    "                                 format(ORN_size + GRN_size))\n",
    "        #===============================================================\n",
    "        \n",
    "        self.connections = connections if connections else np.zeros(ORN_size + GRN_size)\n",
    "        self.ORN_size = ORN_size\n",
    "        self.GRN_size = GRN_size\n",
    "        self.pos = pos\n",
    "        self.stimuli = stimuli\n",
    "        self.threshold = threshold\n",
    "        self.sensory_inputs = self._sensory_inputs()\n",
    "   \n",
    "\n",
    "    def _sensory_inputs(self):\n",
    "        \"\"\"Calculating sensory inputs\n",
    "        \"\"\"\n",
    "        if self.stimuli is None: return # stimuli == None\n",
    "        \n",
    "        sensory_inputs = np.copy(self.stimuli)\n",
    "        for s in sensory_inputs:\n",
    "            dist = np.linalg.norm(self.pos - s[-2 :])\n",
    "            s[: self.ORN_size] /= dist\n",
    "            \n",
    "            heaviside = 1 if dist <= self.threshold else 0\n",
    "            s[self.ORN_size: self.ORN_size + self.GRN_size] *= heaviside\n",
    "        \n",
    "        return np.sum(sensory_inputs[:, :-2], axis=0)\n",
    "        \n",
    "    def get_sensory_inputs(self):\n",
    "        return self.sensory_inputs"
   ]
  },
  {
   "cell_type": "code",
   "execution_count": 3,
   "metadata": {},
   "outputs": [],
   "source": [
    "c = neural_network(stimuli=np.array([[1, 2, 3, 4, 5, 6, 1, 2, 3, 0, 1], \\\n",
    "                                   [2, 3, 4, 4, 5, 1, 2, 2, 3, 0, 5], \\\n",
    "                                   [2, 3, 4, 4, 5, 1, 2, 2, 3, 0, 3]], dtype='float64'))"
   ]
  }
 ],
 "metadata": {
  "kernelspec": {
   "display_name": "Python 3",
   "language": "python",
   "name": "python3"
  },
  "language_info": {
   "codemirror_mode": {
    "name": "ipython",
    "version": 3
   },
   "file_extension": ".py",
   "mimetype": "text/x-python",
   "name": "python",
   "nbconvert_exporter": "python",
   "pygments_lexer": "ipython3",
   "version": "3.6.7"
  }
 },
 "nbformat": 4,
 "nbformat_minor": 2
}
