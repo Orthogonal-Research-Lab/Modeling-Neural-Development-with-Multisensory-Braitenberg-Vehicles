{
 "cells": [
  {
   "cell_type": "markdown",
   "metadata": {},
   "source": [
    "# Simple Neural Network\n",
    "A simple testing design of neural network.\n",
    "<p>Version: 0.1\n",
    "<p>Python version: 3.6"
   ]
  },
  {
   "cell_type": "code",
   "execution_count": 1,
   "metadata": {},
   "outputs": [],
   "source": [
    "import numpy as np"
   ]
  },
  {
   "cell_type": "code",
   "execution_count": 2,
   "metadata": {},
   "outputs": [],
   "source": [
    "class neural_network:\n",
    "    def __init__(self, connection, ORN_size, GRN_size):\n",
    "        \"\"\"Constructing a single neural network\n",
    "        \n",
    "        Parameters\n",
    "        ----------\n",
    "        connection : numpy.ndarray\n",
    "            A connection matrix for all neurons. The top left of the matrix must be receptors.\n",
    "        ORN_size : int\n",
    "            The size of olfactory receptor neurons.\n",
    "        GRN_size : int\n",
    "            The size of gustatory receptor neurons.\n",
    "        \"\"\"\n",
    "        if not isinstance(connection, np.ndarray):\n",
    "            raise ValueError('The connection matrix must be a numpy array.');\n",
    "        if not all(isinstance(i, int) for i in (ORN_size, GRN_size)):\n",
    "            raise ValueError('ORN size and GRN size must be integers.');\n",
    "        self.connection = connection\n",
    "        self.ORN_size = ORN_size\n",
    "        self.GRN_size = GRN_size\n",
    "\n",
    "    def update_odor(self, odor):\n",
    "        \"\"\"Updating the odor input\n",
    "        \n",
    "        Parameters\n",
    "        ----------\n",
    "        odor : numpy.ndarray\n",
    "            The odor input to this network. \n",
    "        \"\"\"\n",
    "        \n",
    "    def update_taste(self, taste):\n",
    "        \"\"\"Updating the taste input\n",
    "        \n",
    "        Parameters\n",
    "        ----------\n",
    "        taste : numpy.ndarray\n",
    "            The taste input to this network. \n",
    "        \"\"\"\n",
    "        "
   ]
  },
  {
   "cell_type": "code",
   "execution_count": null,
   "metadata": {},
   "outputs": [],
   "source": []
  }
 ],
 "metadata": {
  "kernelspec": {
   "display_name": "Python 3",
   "language": "python",
   "name": "python3"
  },
  "language_info": {
   "codemirror_mode": {
    "name": "ipython",
    "version": 3
   },
   "file_extension": ".py",
   "mimetype": "text/x-python",
   "name": "python",
   "nbconvert_exporter": "python",
   "pygments_lexer": "ipython3",
   "version": "3.6.7"
  }
 },
 "nbformat": 4,
 "nbformat_minor": 2
}
